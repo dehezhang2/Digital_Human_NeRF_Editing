{
 "cells": [
  {
   "cell_type": "code",
   "execution_count": 1,
   "id": "a5f57c5f",
   "metadata": {},
   "outputs": [],
   "source": [
    "import torch"
   ]
  },
  {
   "cell_type": "code",
   "execution_count": 2,
   "id": "28c4c7eb",
   "metadata": {},
   "outputs": [],
   "source": [
    "device = 'cuda'\n",
    "checkpoint = \"./checkpoints/nerfsynth/human_cuda/90000_net_ray_marching.pth\"\n",
    "saved_features = torch.load(checkpoint, map_location=device)"
   ]
  },
  {
   "cell_type": "code",
   "execution_count": 9,
   "outputs": [
    {
     "name": "stdout",
     "output_type": "stream",
     "text": [
      "0 aggregator.block1.0.weight\n",
      "1 aggregator.block1.0.bias\n",
      "2 aggregator.block1.2.weight\n",
      "3 aggregator.block1.2.bias\n",
      "4 aggregator.block3.0.weight\n",
      "5 aggregator.block3.0.bias\n",
      "6 aggregator.block3.2.weight\n",
      "7 aggregator.block3.2.bias\n",
      "8 aggregator.alpha_branch.0.weight\n",
      "9 aggregator.alpha_branch.0.bias\n",
      "10 aggregator.color_branch.0.weight\n",
      "11 aggregator.color_branch.0.bias\n",
      "12 aggregator.color_branch.2.weight\n",
      "13 aggregator.color_branch.2.bias\n",
      "14 aggregator.color_branch.4.weight\n",
      "15 aggregator.color_branch.4.bias\n",
      "16 aggregator.color_branch.6.weight\n",
      "17 aggregator.color_branch.6.bias\n",
      "18 neural_points.xyz\n",
      "19 neural_points.points_embeding\n",
      "20 neural_points.points_conf\n",
      "21 neural_points.points_dir\n",
      "22 neural_points.points_color\n",
      "23 neural_points.Rw2c\n"
     ]
    }
   ],
   "source": [
    "for i, k in enumerate(saved_features):\n",
    "    print(i, k)"
   ],
   "metadata": {
    "collapsed": false
   }
  },
  {
   "cell_type": "code",
   "execution_count": 11,
   "id": "6ca47a56",
   "metadata": {},
   "outputs": [],
   "source": [
    "point_cloud = saved_features[\"neural_points.xyz\"]"
   ]
  },
  {
   "cell_type": "code",
   "execution_count": 14,
   "id": "c0201782",
   "metadata": {},
   "outputs": [],
   "source": [
    "import struct\n",
    "import numpy as np\n",
    "def write_pointcloud(filename,xyz_points,rgb_points=None):\n",
    "\n",
    "    \"\"\" creates a .pkl file of the point clouds generated\n",
    "    \"\"\"\n",
    "\n",
    "    assert xyz_points.shape[1] == 3,'Input XYZ points should be Nx3 float array'\n",
    "    if rgb_points is None:\n",
    "        rgb_points = np.zeros(xyz_points.shape).astype(np.uint8)*255\n",
    "    assert xyz_points.shape == rgb_points.shape,'Input RGB colors should be Nx3 float array and have same size as input XYZ points'\n",
    "\n",
    "    # Write header of .ply file\n",
    "    fid = open(filename,'wb')\n",
    "    fid.write(bytes('ply\\n', 'utf-8'))\n",
    "    fid.write(bytes('format binary_little_endian 1.0\\n', 'utf-8'))\n",
    "    fid.write(bytes('element vertex %d\\n'%xyz_points.shape[0], 'utf-8'))\n",
    "    fid.write(bytes('property float x\\n', 'utf-8'))\n",
    "    fid.write(bytes('property float y\\n', 'utf-8'))\n",
    "    fid.write(bytes('property float z\\n', 'utf-8'))\n",
    "    fid.write(bytes('property uchar red\\n', 'utf-8'))\n",
    "    fid.write(bytes('property uchar green\\n', 'utf-8'))\n",
    "    fid.write(bytes('property uchar blue\\n', 'utf-8'))\n",
    "    fid.write(bytes('end_header\\n', 'utf-8'))\n",
    "\n",
    "    # Write 3D points to .ply file\n",
    "    for i in range(xyz_points.shape[0]):\n",
    "        fid.write(bytearray(struct.pack(\"fffccc\",xyz_points[i,0],xyz_points[i,1],xyz_points[i,2],\n",
    "                                        rgb_points[i,0].tostring(),rgb_points[i,1].tostring(),\n",
    "                                        rgb_points[i,2].tostring())))\n",
    "    fid.close()"
   ]
  },
  {
   "cell_type": "code",
   "execution_count": 16,
   "id": "4f25a784",
   "metadata": {},
   "outputs": [
    {
     "name": "stderr",
     "output_type": "stream",
     "text": [
      "/tmp/ipykernel_55029/1037235596.py:29: DeprecationWarning: tostring() is deprecated. Use tobytes() instead.\n",
      "  rgb_points[i,0].tostring(),rgb_points[i,1].tostring(),\n",
      "/tmp/ipykernel_55029/1037235596.py:30: DeprecationWarning: tostring() is deprecated. Use tobytes() instead.\n",
      "  rgb_points[i,2].tostring())))\n"
     ]
    }
   ],
   "source": [
    "write_pointcloud('./data_src/nerf/nerf_synthetic/human/pointcloud/67.ply', point_cloud.cpu().numpy())"
   ]
  },
  {
   "cell_type": "code",
   "execution_count": 16,
   "id": "f7677902",
   "metadata": {},
   "outputs": [],
   "source": [
    "point_cloud[point_cloud[:,-1] < 0] = torch.zeros((133413, 3)).to(device)"
   ]
  },
  {
   "cell_type": "code",
   "execution_count": 19,
   "id": "ec1d5a25",
   "metadata": {},
   "outputs": [],
   "source": [
    "saved_features[\"neural_points.xyz\"] = point_cloud"
   ]
  },
  {
   "cell_type": "code",
   "execution_count": 20,
   "id": "3c3803ee",
   "metadata": {},
   "outputs": [],
   "source": [
    "torch.save(saved_features, checkpoint)"
   ]
  }
 ],
 "metadata": {
  "kernelspec": {
   "display_name": "Python 3",
   "language": "python",
   "name": "python3"
  },
  "language_info": {
   "codemirror_mode": {
    "name": "ipython",
    "version": 3
   },
   "file_extension": ".py",
   "mimetype": "text/x-python",
   "name": "python",
   "nbconvert_exporter": "python",
   "pygments_lexer": "ipython3",
   "version": "3.8.10"
  },
  "vscode": {
   "interpreter": {
    "hash": "916dbcbb3f70747c44a77c7bcd40155683ae19c65e1c03b4aa3499c5328201f1"
   }
  }
 },
 "nbformat": 4,
 "nbformat_minor": 5
}
